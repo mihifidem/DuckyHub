{
 "cells": [
  {
   "cell_type": "code",
   "execution_count": 1,
   "metadata": {},
   "outputs": [
    {
     "ename": "ModuleNotFoundError",
     "evalue": "No module named 'fitz'",
     "output_type": "error",
     "traceback": [
      "\u001b[1;31m---------------------------------------------------------------------------\u001b[0m",
      "\u001b[1;31mModuleNotFoundError\u001b[0m                       Traceback (most recent call last)",
      "Cell \u001b[1;32mIn[1], line 1\u001b[0m\n\u001b[1;32m----> 1\u001b[0m \u001b[38;5;28;01mimport\u001b[39;00m \u001b[38;5;21;01mfitz\u001b[39;00m  \u001b[38;5;66;03m# PyMuPDF\u001b[39;00m\n\u001b[0;32m      3\u001b[0m \u001b[38;5;28;01mdef\u001b[39;00m \u001b[38;5;21mreducir_pdf\u001b[39m(input_pdf, output_pdf):\n\u001b[0;32m      4\u001b[0m     \u001b[38;5;66;03m# Abrir el archivo PDF\u001b[39;00m\n\u001b[0;32m      5\u001b[0m     doc \u001b[38;5;241m=\u001b[39m fitz\u001b[38;5;241m.\u001b[39mopen(input_pdf)\n",
      "\u001b[1;31mModuleNotFoundError\u001b[0m: No module named 'fitz'"
     ]
    }
   ],
   "source": [
    "import fitz  # PyMuPDF\n",
    "\n",
    "def reducir_pdf(input_pdf, output_pdf):\n",
    "    # Abrir el archivo PDF\n",
    "    doc = fitz.open(input_pdf)\n",
    "\n",
    "    # Reducir las imágenes del documento para reducir el tamaño\n",
    "    for page in doc:\n",
    "        # Obtén las imágenes de la página\n",
    "        img_list = page.get_images(full=True)\n",
    "        for img_index, img in enumerate(img_list):\n",
    "            xref = img[0]\n",
    "            base_image = doc.extract_image(xref)\n",
    "            # Aquí puedes comprimir la imagen o reducir su resolución\n",
    "            # (Esto puede requerir una manipulación adicional de las imágenes)\n",
    "\n",
    "    # Guardar el archivo PDF reducido\n",
    "    doc.save(output_pdf, deflate=True)  # `deflate` comprime el archivo\n",
    "    print(f\"PDF reducido guardado como {output_pdf}\")\n",
    "\n",
    "# Usar la función\n",
    "input_pdf = 'file.pdf'\n",
    "output_pdf = 'file2.pdf'\n",
    "reducir_pdf(input_pdf, output_pdf)\n"
   ]
  },
  {
   "cell_type": "code",
   "execution_count": null,
   "metadata": {},
   "outputs": [],
   "source": []
  },
  {
   "cell_type": "code",
   "execution_count": null,
   "metadata": {},
   "outputs": [],
   "source": []
  }
 ],
 "metadata": {
  "kernelspec": {
   "display_name": "idonium",
   "language": "python",
   "name": "python3"
  },
  "language_info": {
   "codemirror_mode": {
    "name": "ipython",
    "version": 3
   },
   "file_extension": ".py",
   "mimetype": "text/x-python",
   "name": "python",
   "nbconvert_exporter": "python",
   "pygments_lexer": "ipython3",
   "version": "3.12.7"
  }
 },
 "nbformat": 4,
 "nbformat_minor": 2
}
